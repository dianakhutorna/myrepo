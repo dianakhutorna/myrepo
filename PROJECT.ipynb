{
  "nbformat": 4,
  "nbformat_minor": 0,
  "metadata": {
    "colab": {
      "provenance": [],
      "authorship_tag": "ABX9TyMpMhxVSD/oYHU63gjmiVQR",
      "include_colab_link": true
    },
    "kernelspec": {
      "name": "python3",
      "display_name": "Python 3"
    },
    "language_info": {
      "name": "python"
    }
  },
  "cells": [
    {
      "cell_type": "markdown",
      "metadata": {
        "id": "view-in-github",
        "colab_type": "text"
      },
      "source": [
        "<a href=\"https://colab.research.google.com/github/dianakhutorna/myrepo/blob/main/PROJECT.ipynb\" target=\"_parent\"><img src=\"https://colab.research.google.com/assets/colab-badge.svg\" alt=\"Open In Colab\"/></a>"
      ]
    },
    {
      "cell_type": "markdown",
      "source": [
        "# Capstone Project: Question & Answering with NLP"
      ],
      "metadata": {
        "id": "mZ5o0cI2DEq8"
      }
    },
    {
      "cell_type": "markdown",
      "source": [
        "## Project Tasks\n",
        "\n",
        "### **Main tasks:**\n",
        "\n",
        "*   Use of classic QA Methods: RoBERTa, DistilLBERT\n",
        "*   Use self-hosted LLM on Huggingface: LLaMa-based models + (optional) fine-tuning\n",
        "*   Use GPT and Prompt engineering: strategies for question formulation and answer extraction\n",
        "\n",
        "### **Extra tasks:**\n",
        "\n",
        "*   Text summarization for more efficient interaction\n",
        "*   Information Retrieval for Multi-Select Questions\n",
        "*   Detection and Handling of Missing Responses"
      ],
      "metadata": {
        "id": "otKQ1YpHEFPh"
      }
    },
    {
      "cell_type": "markdown",
      "source": [
        "## Code"
      ],
      "metadata": {
        "id": "rtKjl4l5IvL3"
      }
    },
    {
      "cell_type": "markdown",
      "source": [
        "### **1. Generating sample data**"
      ],
      "metadata": {
        "id": "DI3VbDE5JJG9"
      }
    },
    {
      "cell_type": "markdown",
      "source": [
        "To begin, we import the necessary packages to work on the project."
      ],
      "metadata": {
        "id": "pag2GOACK-E3"
      }
    },
    {
      "cell_type": "code",
      "execution_count": 1,
      "metadata": {
        "id": "TsoR3a49-sTw"
      },
      "outputs": [],
      "source": [
        "import json\n",
        "import pandas as pd\n",
        "from transformers import pipeline  # Hugging Face pipeline"
      ]
    },
    {
      "cell_type": "markdown",
      "source": [
        "The first thing we do is merge all 5 files of our questionnaire into one file called “questionnaire.json”. We upload this file to the “Files” folder of our project and save it as “data” for further work."
      ],
      "metadata": {
        "id": "HfHfbOESKwoQ"
      }
    },
    {
      "cell_type": "code",
      "source": [
        "!ls # check the file in the \"Files\" directory"
      ],
      "metadata": {
        "colab": {
          "base_uri": "https://localhost:8080/"
        },
        "id": "1vrWoIebEzLv",
        "outputId": "e6c34450-145a-4bd0-9d77-118305b00c2e"
      },
      "execution_count": 4,
      "outputs": [
        {
          "output_type": "stream",
          "name": "stdout",
          "text": [
            "questionnaire.json  sample_data\n"
          ]
        }
      ]
    },
    {
      "cell_type": "code",
      "source": [
        "# open file\n",
        "with open('/content/questionnaire.json', 'r') as f:\n",
        "    questionnaires = json.load(f)\n",
        "\n",
        "# show data\n",
        "print(questionnaires)"
      ],
      "metadata": {
        "colab": {
          "base_uri": "https://localhost:8080/"
        },
        "id": "eXE1127RFp-_",
        "outputId": "1f169980-2593-4881-9848-ca1e3f07347d"
      },
      "execution_count": 13,
      "outputs": [
        {
          "output_type": "stream",
          "name": "stdout",
          "text": [
            "[{'id': 'aa2d8cdd-0758-4035-b0b6-ca18e2f380d8', 'type': 'SINGLE_SELECT', 'question': 'Data processing consent', 'options': [{'id': 'ee0437c0-6335-4b88-8bc5-d4eb8e2c68bf', 'option': 'Yes'}, {'id': 'd357ab84-929f-440a-b9ad-42ff36402a53', 'option': 'No'}]}, {'id': '12e1ed1d-edaa-4e93-8645-de3850e998f9', 'type': 'SINGLE_SELECT', 'question': 'Customer group', 'options': [{'id': '53cc44fa-397b-40bf-8af8-3f629818c93b', 'option': 'End User'}, {'id': 'bab850d1-2de8-4cae-9f87-2c86d41615e8', 'option': 'Wholesaler, Distributor'}, {'id': '31ffae1e-f742-4a0b-b279-eb393483f075', 'option': 'Consultant, Planner, Architect'}, {'id': 'ed56f777-a7cd-48db-9d36-e2579c57e361', 'option': 'R&D'}]}, {'id': '625012ae-9192-4cf6-a73d-55e1813d6014', 'type': 'MULTI_SELECT', 'question': 'Products interested in', 'options': [{'id': '4ccbe8ae-ce37-4822-830a-542aa0475d30', 'option': 'MY-SYSTEM'}, {'id': '58fdea0d-46db-41ef-a089-825f6ebfbb99', 'option': 'Notion'}, {'id': '13906f18-4e39-4d39-8da9-b5e49d9e4cc5', 'option': 'JTS'}, {'id': '1098f7be-b411-427b-a27a-28e16019c454', 'option': 'JS EcoLine'}, {'id': '313457eb-f171-4497-99d4-25fb971a9f9e', 'option': 'AKW100'}, {'id': '92be0772-2471-4a67-bcb3-18894db1fb5d', 'option': 'AX100'}]}, {'id': '0699fc5a-34a4-4160-bda1-fb135a3615da', 'type': 'MULTI_SELECT', 'question': 'What kind of follow up is planned', 'options': [{'id': '54c28cbb-1da5-4797-a60a-69bf7f67d4d6', 'option': 'Email'}, {'id': '46cd9717-6aa9-4d75-8bc6-965b4fdf7d9d', 'option': 'Phone'}, {'id': 'fd93612d-b5a7-4ac8-b3bf-6b2e441f7ef6', 'option': 'Schedule a Visit'}, {'id': '0448361d-b380-4a4b-ac53-db242983a293', 'option': 'No action'}]}, {'id': '815dab84-bc5e-4764-9777-0c0126e3173e', 'type': 'MULTI_SELECT', 'question': 'Who to copy in follow up', 'options': [{'id': '6727080a-43f2-4198-9ae9-d5265c2968a2', 'option': 'Stephan Maier'}, {'id': '06f2722d-fc46-43d7-b019-e1c687268eb2', 'option': 'Joachim Wagner'}, {'id': '63ac3407-81ba-46c1-bdd4-44399f52a737', 'option': 'Erik Schneider'}, {'id': '200568b3-2cc0-4e93-8fdf-e5d46423b2f2', 'option': 'Oliver Eibel'}, {'id': '040e5aa8-79af-4033-a9bb-dd02591da101', 'option': 'Angelina Haug'}, {'id': 'c333e0fc-9a9d-4046-94bf-55e382c14f91', 'option': 'Marisa Peng'}, {'id': '4801f26f-5f21-4135-9745-cb3723511eba', 'option': 'Johannes Wagner'}, {'id': 'f3367795-f31f-4c16-8f2d-681f5135d82e', 'option': 'Jessica Hanke'}, {'id': '0705a961-7d4a-48a7-a370-5f29bcb66cd6', 'option': 'Sandro Kalter'}, {'id': 'bce33461-911b-4f77-abf9-c16c954d1ce6', 'option': 'Jens Roschmann'}, {'id': '7bd036a3-2f0f-4191-bd96-78b4eafbf48a', 'option': 'Domiki Stein'}, {'id': '6e8c0cdf-3667-44ca-9d0b-137fee671022', 'option': 'Sean Kennin'}, {'id': 'e703af01-981f-4433-a40f-fe8dcdb8d3b3', 'option': 'Tim Persson'}]}, {'id': '3f34e5b3-1cb0-48ea-93d2-3f21b3371b5d', 'type': 'SINGLE_SELECT', 'question': 'Would you like to receive marketing information from via e-mail?', 'options': [{'id': 'd5042c22-3c92-4188-a8e0-8241718491db', 'option': 'Yes'}, {'id': '2dc6350a-067b-4192-bbc3-bf2b8b998aa5', 'option': 'No'}]}, {'id': 'ba042f33-697e-4c6f-924c-b4de2c30f443', 'type': 'SINGLE_SELECT', 'question': 'What industry are you operating in?', 'options': [{'id': 'a7828c43-4798-4bca-86d4-ea3a598c2444', 'option': 'Aerospace'}, {'id': '797447d4-1466-4cc2-9e86-97311553446e', 'option': 'Computers & Networks'}, {'id': 'cd98117f-c316-4169-bfc5-372a6f3f287f', 'option': 'Government'}, {'id': '4a75819c-a81e-4eb4-9934-92ecfeb05b69', 'option': 'Medical'}, {'id': 'e9d87cba-2bb2-41f6-808b-33fa75b08b56', 'option': 'Automotive'}, {'id': '619eee6b-c8b5-4c66-9b5e-e0592a7b6475', 'option': 'Defense'}, {'id': 'f9d80479-420f-459f-99e6-6eb8d4110796', 'option': 'Industrial'}, {'id': '506d7408-2ede-451c-a04b-1e29d6c81236', 'option': 'Network Operators & Infrastructure'}, {'id': '2ec898ba-0421-4edd-a1cd-7f0dd867ac46', 'option': 'Public Safety / Law Enforcement'}, {'id': '3b806e12-1a6b-4eae-9d35-52c23f5ea074', 'option': 'Physical Security'}]}, {'id': '7a776cc0-ffe8-4891-b8a9-dd5ff984de13', 'type': 'MULTI_SELECT', 'question': 'What products are you interested in?', 'options': [{'id': '00c8e2b9-c04f-497e-9619-f1a14e633ca6', 'option': 'Automotive radar target simulation'}, {'id': '71860cf8-f8a8-4344-9eb2-74444855990e', 'option': 'Noise figure measurements'}, {'id': '234c0357-3e48-46d2-9658-c497408b8628', 'option': 'Double-Pulse Testing'}, {'id': '157fa493-182b-47a4-b05e-fdde82d6681c', 'option': 'Display port debugging and compliance'}, {'id': '1055e6c5-4b27-430b-bc9e-f19072ecac6d', 'option': 'High-speed interconnect testing'}]}, {'id': 'a0148bc7-15b3-41d5-b97c-6420b8bd927c', 'type': 'TEXT', 'question': 'Notes', 'options': [{'id': 'a0148bc7-15b3-41d5-b97c-6420b8bd927c', 'option': 'Please provide any additional information that you would like to share.'}]}, {'id': '5aefc81d-c5d2-41fc-bc7b-6117d1c7671e', 'type': 'SINGLE_SELECT', 'question': 'What type of company is it?', 'options': [{'id': '567a5789-ad9c-4b6e-9946-d2288e00dd3f', 'option': 'Construction company'}, {'id': 'b09c1744-c662-4879-a3fc-35b6cf808db8', 'option': 'Craft enterprises'}, {'id': '6da05930-6493-4855-8c2f-e892089cbef2', 'option': 'Scaffolding company'}, {'id': '2f68f1bb-434f-478e-98c3-def022b6b353', 'option': 'Trading company'}, {'id': '44c4ef5d-7234-436c-961d-ba3b8b30b02f', 'option': 'Production company'}, {'id': 'ebf6c300-4c44-4a19-b822-a3ece594d142', 'option': 'Education sector'}]}, {'id': '034b7b45-2139-4b5f-8933-6b48dd732920', 'type': 'SINGLE_SELECT', 'question': 'What is the size of your company?', 'options': [{'id': '807c738f-af1f-41ff-88ce-22dae769ea0b', 'option': '1-10'}, {'id': 'afe07a23-39fa-4752-89d0-a51fc8f64bdd', 'option': '11-50'}, {'id': 'a52ccbc7-440d-43a2-80f7-bd7052a642de', 'option': '51-200'}, {'id': '7d07612b-434d-4958-bb10-d4603a2cc1d8', 'option': '201-2000'}, {'id': '3b5467c0-e7a3-4040-8a4f-a0a62896372b', 'option': 'larger than 2000'}]}, {'id': '56127ae3-c20b-4082-bfad-d6976bee7003', 'type': 'DATE', 'question': 'When do you wish to receive a follow-up?', 'options': [{'id': 'f1b1b3b4-1b1b-4b3b-8b1b-1b1b1b1b1b1b', 'option': 'Date'}]}, {'id': 'c1bc3fad-ff12-486c-9c71-e0bff2f2a2a9', 'type': 'TEXT', 'question': 'Any additional notes?', 'options': [{'id': 'f1b1b3b4-1b1b-4b3b-8b1b-a0a62896372b', 'option': 'What additional information would you like to share?'}]}, {'id': '25f0cc40-a168-40f9-aef3-5d9956de4d11', 'type': 'SINGLE_SELECT', 'question': 'Which language is wanted for communication? ', 'options': [{'id': '4908d36f-eeac-4d58-9c11-357e419222b2', 'option': 'German'}, {'id': 'e1843724-18b2-4010-ae4f-45ecbd88a547', 'option': 'Italian'}, {'id': '8c0cafa3-3666-442d-8464-f18cfb5b81bc', 'option': 'Japanese '}, {'id': '892831da-c467-44e8-b7a6-72938fd91659', 'option': 'English'}, {'id': 'aab1f8d2-d0fc-4b45-a383-249f1ba6afec', 'option': 'Spanish'}]}, {'id': '6fddae02-26b3-4f76-8387-e02d44b19198', 'type': 'MULTI_SELECT', 'question': 'What is the type of contact?', 'options': [{'id': '59ffd3d5-757b-491b-bcc0-59241a7f0b78', 'option': 'Existing customer'}, {'id': 'ee91f72e-eb3d-47cc-b050-a3e7425352c3', 'option': 'Supplier'}, {'id': '1799f43b-f51f-4cfd-a7d8-cdfb880e6dbf', 'option': 'New customer / Prospect'}, {'id': 'd989a6c4-deb5-4d28-bf50-d31ad93bf571', 'option': 'Press / media'}, {'id': '15a26a55-0aab-4378-ab7d-8daed7c546bb', 'option': 'Competitor'}]}, {'id': '68048ce3-a6fe-4cb1-adea-7125fa56d743', 'type': 'MULTI_SELECT', 'question': 'What is the contact person interested in?', 'options': [{'id': 'f3b3b3b3-3b3b-3b3b-3b3b-3b3b3b3b3b3b', 'option': '100 Additive Manufacturing'}, {'id': 'f3b3b3b3-3b3b-3b3b-3b3b-3b3b3b3b3b3b', 'option': '200 Automation'}, {'id': 'f3b3b3b3-3b3b-3b3b-3b3b-3b3b3b3b3b3b', 'option': '300 Advanced Manufacturing'}, {'id': 'f3b3b3b3-3b3b-3b3b-3b3b-3b3b3b3b3b3b', 'option': '234 Assembly Systems'}, {'id': 'f3b3b3b3-3b3b-3b3b-3b3b-3b3b3b3b3b3b', 'option': '256 Joining Systems for large components'}, {'id': 'f3b3b3b3-3b3b-3b3b-3b3b-3b3b3b3b3b3b', 'option': 'Others'}]}, {'id': '3dd27f03-db17-4608-8f99-158f5a7c7abf', 'type': 'NUMBER', 'question': 'What phone number can we use for contact?', 'options': [{'id': '4a34e0e1-0c76-494e-b779-90763685b18d', 'option': 'phone number'}]}, {'id': 'fd61784d-c75b-4e93-ac5d-b8d5425e0844', 'type': 'MULTI_SELECT', 'question': 'When does the contact person wish to receive a follow up?', 'options': [{'id': 'e5e53e1b-75f0-4994-a626-07e639c69590', 'option': '1 week'}, {'id': '9eef0568-554e-4a51-b975-9705f0ab0354', 'option': '2 weeks'}, {'id': 'bc193661-b50e-4149-a4a6-3802aa2b52f5', 'option': '3 weeks'}]}, {'id': '6f32fe36-96db-498a-a853-4dccb99b49d4', 'type': 'SINGLE_SELECT', 'question': 'Customer type', 'options': [{'id': '57799717-9780-45f3-b8a8-56c15fdc579f', 'option': 'New customer'}, {'id': 'd1b2a8eb-3684-410d-aec7-32bbde92218c', 'option': 'Existing customer'}, {'id': '6f4d1a3b-f0a3-4064-8939-f679de34552c', 'option': 'Partner'}, {'id': '3ac5dbfd-164f-42a3-a824-e28d40fd74dd', 'option': 'Applicant'}]}, {'id': '0407e2fa-e5d3-4464-a33e-210013621431', 'type': 'SINGLE_SELECT', 'question': 'Customer satisfaction', 'options': [{'id': '5031fa14-e1a1-4ea0-8ff3-5577bb3a1e1c', 'option': 'Very satisfied'}, {'id': 'e9316dbd-d2e9-4e47-a727-8d31c321ceb2', 'option': 'Satisfied'}, {'id': '509201f6-f480-4bad-9b70-d9e7c5ec3315', 'option': 'Unsatisfied'}, {'id': 'da961c5b-073c-44d0-b346-b99245cc83be', 'option': 'Very unsatisfied'}]}, {'id': '47466ef3-68cf-4cfa-aa2f-7e395ad4590f', 'type': 'SINGLE_SELECT', 'question': 'Size of the trade fair team (on average)', 'options': [{'id': '549deb8e-ed74-41dc-a9ac-c4b90439d88a', 'option': '1-5'}, {'id': '7e22d8a7-7a4b-48ae-ad4a-271c93f912bf', 'option': '6-10'}, {'id': '63f64c89-5e60-4317-a0d5-e74ad5362823', 'option': '11-15'}, {'id': '638511f8-010d-47a3-ad06-a16f04812989', 'option': '16-20'}, {'id': '73905688-90d8-46cb-a718-522e1fb6b690', 'option': '21-30'}, {'id': 'c8d82b96-9704-4cae-ae30-c705f60e26e3', 'option': '31-40'}, {'id': '632eeb14-e201-492d-b374-34b0935ee56f', 'option': 'more than 40'}]}, {'id': '7bb14352-80ce-4ebf-b81c-70e0755cc7e6', 'type': 'SINGLE_SELECT', 'question': 'CRM-System', 'options': [{'id': '8e8fc562-6a2c-4692-8ae5-2a52da4cb9fc', 'option': 'Salesforce'}, {'id': 'b3edff55-9e0b-4b07-b303-94749f174e24', 'option': 'Pipedrive'}, {'id': 'f2e6d399-0e54-4406-a734-b93139cd137a', 'option': 'Close.io'}, {'id': 'f34de2d0-b4c4-4e1f-9afc-79b60b3648af', 'option': 'Microsoft Dynamics'}, {'id': '026c6bf5-1a5f-429d-bb0f-256b9250f465', 'option': 'HubSpot'}, {'id': 'db2c8b3a-bcbb-44a6-af55-0a1de3e157f4', 'option': 'CAS'}, {'id': '8a6e75ed-a4e5-4d69-925f-48c3583c17a7', 'option': 'SAP Sales Cloud'}, {'id': 'fe6aed13-8a56-465c-a1cb-1021aa14411a', 'option': 'Adito'}]}, {'id': 'e95e34ce-1758-4037-9474-99d0557a7a29', 'type': 'MULTI_SELECT', 'question': 'Productinterests', 'options': [{'id': 'ea26e309-e43d-4eba-be81-45a8d00cbc8f', 'option': 'BusinessCards'}, {'id': '1f03086d-6f6b-4d45-88b2-294fc4c4e201', 'option': 'DataEnrichment'}, {'id': 'd6b79f06-30ff-46b3-878f-6b2943df16e1', 'option': 'VisitReport'}, {'id': '5b9779a4-f73a-40b3-8728-e929f7314211', 'option': 'Data Cleansing'}, {'id': 'c563a8c7-9cfa-48ca-b553-75cb30c3e8de', 'option': 'DataQuality'}]}, {'id': '72f9264b-8228-4f14-8387-a4d49797cfa0', 'type': 'MULTI_SELECT', 'question': 'Searches a solution for', 'options': [{'id': '938ec9af-8740-4642-a624-bc751175908d', 'option': 'Scan business cards'}, {'id': '649864a5-d348-40d1-9133-67e48ee4b2c7', 'option': 'Clean up CRM'}, {'id': 'dafba3a0-9c09-4ad3-95fe-d78645fe2639', 'option': 'Extract data from emails'}, {'id': 'ffe96cfc-788c-4993-baa6-026edc01585b', 'option': 'Improve CRM data quality'}, {'id': 'e399f29b-0233-4939-ab09-9c08bd09150c', 'option': 'Capture trade fair contacts'}]}, {'id': '6c5535e3-7d9f-4b81-9b44-e3c1a571bc51', 'type': 'SINGLE_SELECT', 'question': 'Next steps', 'options': [{'id': '603910cb-2c4c-4911-9f9b-c85ada7ccb99', 'option': 'Offer'}, {'id': 'b46d3f53-bcd5-4b81-976d-4f4a27d1a7b3', 'option': 'Meeting'}, {'id': 'a42139dc-ccf6-4a95-85ef-9b0b6035e60a', 'option': 'Call'}]}]\n"
          ]
        }
      ]
    },
    {
      "cell_type": "markdown",
      "source": [
        "We can use Hugging Face or OpenAI to generate texts. Lets use text-generation from GPT2."
      ],
      "metadata": {
        "id": "0GYJm4JzKUEA"
      }
    },
    {
      "cell_type": "code",
      "source": [
        "# Инициализация модели для генерации текста\n",
        "generator = pipeline(\"text-generation\", model=\"gpt2\")\n",
        "\n",
        "# Функция для генерации текста\n",
        "def generate_text(question, options):\n",
        "    prompt = f\"Question: {question}\\nOptions: {', '.join(options)}\\nAnswer:\"\n",
        "    # Использование max_new_tokens вместо max_length\n",
        "    response = generator(prompt, max_new_tokens=100, num_return_sequences=1, temperature=0.7, top_p=0.9)\n",
        "    return response[0]['generated_text']\n",
        "\n",
        "# Пример: Генерация данных для всех анкет\n",
        "generated_data = []\n",
        "for q in questionnaires:\n",
        "    options = [opt['option'] for opt in q['options']]\n",
        "    generated_answer = generate_text(q['question'], options)\n",
        "    generated_data.append({\n",
        "        \"question_id\": q['id'],\n",
        "        \"question\": q['question'],\n",
        "        \"generated_answer\": generated_answer\n",
        "    })\n",
        "\n",
        "# Сохранение данных в JSON\n",
        "with open('generated_data.json', 'w') as outfile:\n",
        "    json.dump(generated_data, outfile)\n",
        "\n"
      ],
      "metadata": {
        "colab": {
          "base_uri": "https://localhost:8080/"
        },
        "id": "EhKLcg9cH6Bu",
        "outputId": "85eb3498-6401-4a90-e733-d118ae22cfdb"
      },
      "execution_count": 22,
      "outputs": [
        {
          "output_type": "stream",
          "name": "stderr",
          "text": [
            "Device set to use cpu\n",
            "Setting `pad_token_id` to `eos_token_id`:50256 for open-end generation.\n",
            "Setting `pad_token_id` to `eos_token_id`:50256 for open-end generation.\n",
            "Setting `pad_token_id` to `eos_token_id`:50256 for open-end generation.\n",
            "Setting `pad_token_id` to `eos_token_id`:50256 for open-end generation.\n",
            "Setting `pad_token_id` to `eos_token_id`:50256 for open-end generation.\n",
            "Setting `pad_token_id` to `eos_token_id`:50256 for open-end generation.\n",
            "Setting `pad_token_id` to `eos_token_id`:50256 for open-end generation.\n",
            "Setting `pad_token_id` to `eos_token_id`:50256 for open-end generation.\n",
            "Setting `pad_token_id` to `eos_token_id`:50256 for open-end generation.\n",
            "Setting `pad_token_id` to `eos_token_id`:50256 for open-end generation.\n",
            "Setting `pad_token_id` to `eos_token_id`:50256 for open-end generation.\n",
            "Setting `pad_token_id` to `eos_token_id`:50256 for open-end generation.\n",
            "Setting `pad_token_id` to `eos_token_id`:50256 for open-end generation.\n",
            "Setting `pad_token_id` to `eos_token_id`:50256 for open-end generation.\n",
            "Setting `pad_token_id` to `eos_token_id`:50256 for open-end generation.\n",
            "Setting `pad_token_id` to `eos_token_id`:50256 for open-end generation.\n",
            "Setting `pad_token_id` to `eos_token_id`:50256 for open-end generation.\n",
            "Setting `pad_token_id` to `eos_token_id`:50256 for open-end generation.\n",
            "Setting `pad_token_id` to `eos_token_id`:50256 for open-end generation.\n",
            "Setting `pad_token_id` to `eos_token_id`:50256 for open-end generation.\n",
            "Setting `pad_token_id` to `eos_token_id`:50256 for open-end generation.\n",
            "Setting `pad_token_id` to `eos_token_id`:50256 for open-end generation.\n",
            "Setting `pad_token_id` to `eos_token_id`:50256 for open-end generation.\n",
            "Setting `pad_token_id` to `eos_token_id`:50256 for open-end generation.\n",
            "Setting `pad_token_id` to `eos_token_id`:50256 for open-end generation.\n"
          ]
        }
      ]
    },
    {
      "cell_type": "code",
      "source": [
        "with open('/content/generated_data.json', 'r') as infile:\n",
        "    generated_data = json.load(infile)\n",
        "    print(generated_data)"
      ],
      "metadata": {
        "colab": {
          "base_uri": "https://localhost:8080/"
        },
        "id": "4wE3_kwrNOJL",
        "outputId": "0ce19f73-924a-40e0-d00c-22abeb43b19a"
      },
      "execution_count": 23,
      "outputs": [
        {
          "output_type": "stream",
          "name": "stdout",
          "text": [
            "[{'question_id': 'aa2d8cdd-0758-4035-b0b6-ca18e2f380d8', 'question': 'Data processing consent', 'generated_answer': 'Question: Data processing consent\\nOptions: Yes, No\\nAnswer:\\nData processing consent is a form of consent that requires that the parties agree to share information with each other and that is intended to provide a safe and secure environment for the processing of personal information.\\nData processing consent is not a legal obligation of any jurisdiction.\\nData processing consent can only be obtained by the parties involved.\\nInformation about the data processing consent is available in the Privacy Policy.\\nData processing consent is not required to be signed by the parties involved.\\nData processing consent is a'}, {'question_id': '12e1ed1d-edaa-4e93-8645-de3850e998f9', 'question': 'Customer group', 'generated_answer': 'Question: Customer group\\nOptions: End User, Wholesaler, Distributor, Consultant, Planner, Architect, R&D\\nAnswer: Customer group\\nOptions: End User, Wholesaler, Distributor, Consultant, Planner, Architect, R&D\\nOptions: End User, Wholesaler, Distributor, Consultant, Planner, Architect, R&D\\nOption: Returned value\\n(0)\\nThe following options are available for a return of a return value:\\nOption: Return Value,\\nOption: Return Value, Option: Return Value, Option: Return Value, Option: Return Value'}, {'question_id': '625012ae-9192-4cf6-a73d-55e1813d6014', 'question': 'Products interested in', 'generated_answer': \"Question: Products interested in\\nOptions: MY-SYSTEM, Notion, JTS, JS EcoLine, AKW100, AX100\\nAnswer:\\nI'm not interested in those. I'm interested in the possibilities.\\nI'm interested in all the possibilities, and I'm interested in the possibilities.\\nI'm interested in all the possibilities.\\nI'm interested in all the possibilities.\\nI'm interested in all the possibilities.\\nI'm interested in all the possibilities.\\nI'm interested in all the possibilities.\\nI'm interested in all the possibilities.\\nI'm interested in all the possibilities.\\nI'm interested in\"}, {'question_id': '0699fc5a-34a4-4160-bda1-fb135a3615da', 'question': 'What kind of follow up is planned', 'generated_answer': \"Question: What kind of follow up is planned\\nOptions: Email, Phone, Schedule a Visit, No action\\nAnswer: I'm going to follow up on the following questions. I'll be posting more in the near future.\\nI've seen so many good answers to these questions, and I'm so excited to share them with you. I'm going to take some time to write the answers to the following questions.\\nWhat kind of follow up is planned\\nOption 1: This is where you will post the first question. This will be where we will post the second question. I'll be posting the first question\"}, {'question_id': '815dab84-bc5e-4764-9777-0c0126e3173e', 'question': 'Who to copy in follow up', 'generated_answer': 'Question: Who to copy in follow up\\nOptions: Stephan Maier, Joachim Wagner, Erik Schneider, Oliver Eibel, Angelina Haug, Marisa Peng, Johannes Wagner, Jessica Hanke, Sandro Kalter, Jens Roschmann, Domiki Stein, Sean Kennin, Tim Persson\\nAnswer:\\nYou should be able to copy the following files:\\n\\n- The header files for the \"C:\\\\Program Files\\\\Microsoft Office\\\\Office\\\\Office.dll\" file and \"C:\\\\Program Files\\\\Microsoft Office\\\\Office.ini\" file\\n\\n- The \"C:\\\\Program Files\\\\Microsoft Office\\\\Office.ini\" file and \"C:\\\\Program Files\\\\Microsoft Office\\\\Office.ini\" file\\n\\n- The \"C:\\\\Program Files\\\\Microsoft Office\\\\Office.ini\"'}, {'question_id': '3f34e5b3-1cb0-48ea-93d2-3f21b3371b5d', 'question': 'Would you like to receive marketing information from via e-mail?', 'generated_answer': 'Question: Would you like to receive marketing information from via e-mail?\\nOptions: Yes, No\\nAnswer: Please enter your email address below.'}, {'question_id': 'ba042f33-697e-4c6f-924c-b4de2c30f443', 'question': 'What industry are you operating in?', 'generated_answer': 'Question: What industry are you operating in?\\nOptions: Aerospace, Computers & Networks, Government, Medical, Automotive, Defense, Industrial, Network Operators & Infrastructure, Public Safety / Law Enforcement, Physical Security\\nAnswer: I am an Aerospace, Computer & Networks (ACN) & Computer & Network Operator (CNC) for the United States Government. I am also a Senior Engineer for the National Security Agency (NSA). I am also a Director of the Department of Homeland Security (DHS). I am currently working on a project to create a new computer system for the United States Government. I am also a Senior Engineering Officer for the U.S. Army and Air Force (Air Force). I am also a'}, {'question_id': '7a776cc0-ffe8-4891-b8a9-dd5ff984de13', 'question': 'What products are you interested in?', 'generated_answer': 'Question: What products are you interested in?\\nOptions: Automotive radar target simulation, Noise figure measurements, Double-Pulse Testing, Display port debugging and compliance, High-speed interconnect testing\\nAnswer: This is a very simple product. It is intended to be used in conjunction with the BCA and is not intended for use on the BCA. The BCA will not be able to offer this product for use on the BCA. Please contact me or email me at the following address:\\nEmail: info@bca.org\\nPhone: +1.877.847.7386\\nFax: +1.877.847.7386\\n\\nWebsite: www.'}, {'question_id': 'a0148bc7-15b3-41d5-b97c-6420b8bd927c', 'question': 'Notes', 'generated_answer': \"Question: Notes\\nOptions: Please provide any additional information that you would like to share.\\nAnswer: I'm still in a rush and I'm not sure what to do with this.\\nIf you are looking for help with any of the following, please go to http://www.bibdsl.co.uk/w10-images/l/MM00241177.jpg.\"}, {'question_id': '5aefc81d-c5d2-41fc-bc7b-6117d1c7671e', 'question': 'What type of company is it?', 'generated_answer': 'Question: What type of company is it?\\nOptions: Construction company, Craft enterprises, Scaffolding company, Trading company, Production company, Education sector\\nAnswer: There are several types of companies, but they all share a common purpose.\\nOption 1: A business is a business that provides services to the general public.\\nOption 2: A business is a business that provides services to the government.\\nOption 3: A business is a business that provides services to the public.\\nOption 4: A business is a business that provides services to the public.\\nOption 5: A business is a business that provides services to the public.\\nOption 6:'}, {'question_id': '034b7b45-2139-4b5f-8933-6b48dd732920', 'question': 'What is the size of your company?', 'generated_answer': 'Question: What is the size of your company?\\nOptions: 1-10, 11-50, 51-200, 201-2000, larger than 2000\\nAnswer: You\\'ll probably be surprised how many companies make an \"optimal\" size. You\\'ll probably be surprised how many companies make an \"optimal\" size. The idea is that if you have a large business, you\\'ll probably need to make more than 10,000 employees.\\nThere are lots of reasons to do that. You might have a great idea for a new product or service, or a great idea for a new way to do business, or a great idea for a new business.'}, {'question_id': '56127ae3-c20b-4082-bfad-d6976bee7003', 'question': 'When do you wish to receive a follow-up?', 'generated_answer': 'Question: When do you wish to receive a follow-up?\\nOptions: Date\\nAnswer: November 7, 2011\\nHow do you wish to receive a follow-up?\\nWhy?\\nIn a nutshell: I was in the middle of a hard-fought campaign to get a new office in my district. My campaign manager had a phone call with a local campaign manager who was very concerned about the campaign. He told me that if I did not get the follow-up email by Monday, he would be in a position to ask me for a follow-up. I told him'}, {'question_id': 'c1bc3fad-ff12-486c-9c71-e0bff2f2a2a9', 'question': 'Any additional notes?', 'generated_answer': \"Question: Any additional notes?\\nOptions: What additional information would you like to share?\\nAnswer: I want to be able to find all the information I need on how to change your account and how to change your username. I'm looking for suggestions on how to change your username.\\nHow to change your username:\\nWhat you need to do to change your username:\\nPlease check the following links to see the new information.\\nStep 1: Change your username\\nStep 2: Change your username\\nStep 3: Change your username\\nStep 4: Change your username\\nStep 5: Change\"}, {'question_id': '25f0cc40-a168-40f9-aef3-5d9956de4d11', 'question': 'Which language is wanted for communication? ', 'generated_answer': 'Question: Which language is wanted for communication? \\nOptions: German, Italian, Japanese , English, Spanish\\nAnswer: English is the preferred language for communication.\\nSource: http://www.ncbi.nlm.nih.gov/pubmed/22342550\\nQuestion: Why is the name \"Nambo\"? \\nOptions: English, Italian, Japanese, English, Spanish\\nAnswer: English is the preferred language for communication.\\nSource: http://www.ncbi.nlm.nih.gov/pubmed/22342550 Question: What is the role of the'}, {'question_id': '6fddae02-26b3-4f76-8387-e02d44b19198', 'question': 'What is the type of contact?', 'generated_answer': 'Question: What is the type of contact?\\nOptions: Existing customer, Supplier, New customer / Prospect, Press / media, Competitor\\nAnswer:\\nThe type of contact is not important.\\nThe type of contact is not important. The types of contact are:\\nThe current customer or prospect\\nThe New customer or Prospect\\nThe press\\nThe Competitor\\nThe Press\\nThe Press\\nThe Press\\nThe Press\\nThe Press\\nThe Press\\nThe Press\\nThe Press\\nThe Press\\nThe Press\\nThe Press\\nThe Press\\nThe Press\\nThe Press\\nThe Press\\nThe Press\\nThe Press\\nThe Press\\nThe Press'}, {'question_id': '68048ce3-a6fe-4cb1-adea-7125fa56d743', 'question': 'What is the contact person interested in?', 'generated_answer': \"Question: What is the contact person interested in?\\nOptions: 100 Additive Manufacturing, 200 Automation, 300 Advanced Manufacturing, 234 Assembly Systems, 256 Joining Systems for large components, Others\\nAnswer: This person is interested in the following:\\n1. The design of the assembly system. 2. The design of the assembly system and the assembly system's components. 3. The design of the assembly system's components. 4. The assembly system's components. 5. The assembly system's components. 6. The assembly system's components. 7. The assembly system's components. 8. The assembly system's components. 9. The assembly system's components. 10. The assembly system's components.\"}, {'question_id': '3dd27f03-db17-4608-8f99-158f5a7c7abf', 'question': 'What phone number can we use for contact?', 'generated_answer': 'Question: What phone number can we use for contact?\\nOptions: phone number\\nAnswer: I would like to contact you about the situation. If you would like to call the number, please use the following phone number and I will send you a text message.\\nI would like to contact you about the situation. If you would like to call the number, please use the following phone number and I will send you a text message. Contact me:\\nI would like to contact you about the situation. If you would like to call the number, please use the following phone number and I'}, {'question_id': 'fd61784d-c75b-4e93-ac5d-b8d5425e0844', 'question': 'When does the contact person wish to receive a follow up?', 'generated_answer': 'Question: When does the contact person wish to receive a follow up?\\nOptions: 1 week, 2 weeks, 3 weeks\\nAnswer: Yes\\nAnswer: Yes\\nAnswer: Yes\\nAnswer: Yes\\nAnswer: Yes\\nAnswer: Yes\\nAnswer: Yes\\nAnswer: Yes\\nAnswer: Yes\\nAnswer: Yes\\nAnswer: Yes\\nAnswer: Yes\\nAnswer: Yes\\nAnswer: Yes\\nAnswer: Yes\\nAnswer: Yes\\nAnswer: Yes\\nAnswer: Yes\\nAnswer: Yes\\nAnswer: Yes\\nAnswer: Yes\\nAnswer: Yes\\nAnswer: Yes\\nAnswer: Yes\\nAnswer: Yes\\nAnswer:'}, {'question_id': '6f32fe36-96db-498a-a853-4dccb99b49d4', 'question': 'Customer type', 'generated_answer': 'Question: Customer type\\nOptions: New customer, Existing customer, Partner, Applicant\\nAnswer:\\nCustomer type\\nOptions: New customer, Existing customer, Partner, Applicant\\nAnswer:\\nCustomer type\\nOptions: New customer, Existing customer, Partner, Applicant\\nAnswer:\\nCustomer type\\nOptions: New customer, Existing customer, Partner, Applicant\\nAnswer:\\nCustomer type\\nOptions: New customer, Existing customer, Partner, Applicant\\nAnswer:\\nCustomer type\\nOptions: New customer, Existing customer, Partner, Applicant\\nAnswer:\\nCustomer type\\nOptions'}, {'question_id': '0407e2fa-e5d3-4464-a33e-210013621431', 'question': 'Customer satisfaction', 'generated_answer': 'Question: Customer satisfaction\\nOptions: Very satisfied, Satisfied, Unsatisfied, Very unsatisfied\\nAnswer: Customer satisfaction is a very important factor in any business. For example, it is very important to have a customer who will trust you and will be a good fit for your business. The more you are able to express your trust in your customers, the more customers you can build a relationship with.\\nThe following examples illustrate the importance of customer satisfaction.\\nCustomer: I am a very happy customer.\\nCustomer: If you want to be a good fit for my business, I want to know about'}, {'question_id': '47466ef3-68cf-4cfa-aa2f-7e395ad4590f', 'question': 'Size of the trade fair team (on average)', 'generated_answer': \"Question: Size of the trade fair team (on average)\\nOptions: 1-5, 6-10, 11-15, 16-20, 21-30, 31-40, more than 40\\nAnswer: A small team is a small team, and is likely to be more successful if the team has a good, talented and competitive roster. A large team is a large team, and is likely to be less successful if the team has a weak, talented and competitive roster.\\nQuestion: The amount of time it takes for a team to win a tournament (at the expense of the team's ability to compete)\\nOptions: 1-5, 6-10, 11-15, 16-20\"}, {'question_id': '7bb14352-80ce-4ebf-b81c-70e0755cc7e6', 'question': 'CRM-System', 'generated_answer': \"Question: CRM-System\\nOptions: Salesforce, Pipedrive, Close.io, Microsoft Dynamics, HubSpot, CAS, SAP Sales Cloud, Adito\\nAnswer: A great place to start if you're looking for an enterprise data center or business solution. I found this site to be one of the best for the job.\\nFor the next few months, I'll be reviewing the most popular enterprise solutions, as well as creating a list of their top 5.\\nWhat are the main features of Salesforce?\\nYou can create your own services, manage your own business, manage your own organization, and build your own business.\\nThe main features of Sales\"}, {'question_id': 'e95e34ce-1758-4037-9474-99d0557a7a29', 'question': 'Productinterests', 'generated_answer': 'Question: Productinterests\\nOptions: BusinessCards, DataEnrichment, VisitReport, Data Cleansing, DataQuality\\nAnswer: The following list of options can be used to create a DataStore. This option can be used on any of the following topics:\\n1. Marketing.\\n2. Sales.\\n3. Design.\\n4. Sales Data.\\n5. Analytics.\\n6. Social media.\\n7. Product Hunt.\\n8. Business Analytics.\\n9. Product SEO.\\n10. Product Sales.\\n11. Product Marketing.\\n12. Product Tracking.\\n13. Product Search.'}, {'question_id': '72f9264b-8228-4f14-8387-a4d49797cfa0', 'question': 'Searches a solution for', 'generated_answer': 'Question: Searches a solution for\\nOptions: Scan business cards, Clean up CRM, Extract data from emails, Improve CRM data quality, Capture trade fair contacts\\nAnswer: Scan business cards, Clean up CRM, Extract data from emails, Improve CRM data quality, Capture trade fair contacts\\nSolution: Scan business cards, Clean up CRM, Extract data from emails, Improve CRM data quality, Capture trade fair contacts\\nSolution: Scan business cards, Clean up CRM, Extract data from emails, Improve CRM data quality, Capture trade fair contacts\\nSolution: Scan business cards, Clean up CRM, Extract data from emails, Improve CRM data quality'}, {'question_id': '6c5535e3-7d9f-4b81-9b44-e3c1a571bc51', 'question': 'Next steps', 'generated_answer': \"Question: Next steps\\nOptions: Offer, Meeting, Call\\nAnswer:\\nI want to make sure that there is a good place to go to meet you. If you want to get in touch with me, I'll be there.\"}]\n"
          ]
        }
      ]
    },
    {
      "cell_type": "code",
      "source": [
        "for item in generated_data[:5]:\n",
        "    print(f\"Question: {item['question']}\")\n",
        "    print(f\"Generated Answer: {item['generated_answer']}\")\n",
        "    print(\"-\" * 50)"
      ],
      "metadata": {
        "colab": {
          "base_uri": "https://localhost:8080/"
        },
        "id": "XgTCgxvOOTUH",
        "outputId": "13b42b2a-7936-4cc2-a53d-c020e0c74924"
      },
      "execution_count": 24,
      "outputs": [
        {
          "output_type": "stream",
          "name": "stdout",
          "text": [
            "Question: Data processing consent\n",
            "Generated Answer: Question: Data processing consent\n",
            "Options: Yes, No\n",
            "Answer:\n",
            "Data processing consent is a form of consent that requires that the parties agree to share information with each other and that is intended to provide a safe and secure environment for the processing of personal information.\n",
            "Data processing consent is not a legal obligation of any jurisdiction.\n",
            "Data processing consent can only be obtained by the parties involved.\n",
            "Information about the data processing consent is available in the Privacy Policy.\n",
            "Data processing consent is not required to be signed by the parties involved.\n",
            "Data processing consent is a\n",
            "--------------------------------------------------\n",
            "Question: Customer group\n",
            "Generated Answer: Question: Customer group\n",
            "Options: End User, Wholesaler, Distributor, Consultant, Planner, Architect, R&D\n",
            "Answer: Customer group\n",
            "Options: End User, Wholesaler, Distributor, Consultant, Planner, Architect, R&D\n",
            "Options: End User, Wholesaler, Distributor, Consultant, Planner, Architect, R&D\n",
            "Option: Returned value\n",
            "(0)\n",
            "The following options are available for a return of a return value:\n",
            "Option: Return Value,\n",
            "Option: Return Value, Option: Return Value, Option: Return Value, Option: Return Value\n",
            "--------------------------------------------------\n",
            "Question: Products interested in\n",
            "Generated Answer: Question: Products interested in\n",
            "Options: MY-SYSTEM, Notion, JTS, JS EcoLine, AKW100, AX100\n",
            "Answer:\n",
            "I'm not interested in those. I'm interested in the possibilities.\n",
            "I'm interested in all the possibilities, and I'm interested in the possibilities.\n",
            "I'm interested in all the possibilities.\n",
            "I'm interested in all the possibilities.\n",
            "I'm interested in all the possibilities.\n",
            "I'm interested in all the possibilities.\n",
            "I'm interested in all the possibilities.\n",
            "I'm interested in all the possibilities.\n",
            "I'm interested in all the possibilities.\n",
            "I'm interested in\n",
            "--------------------------------------------------\n",
            "Question: What kind of follow up is planned\n",
            "Generated Answer: Question: What kind of follow up is planned\n",
            "Options: Email, Phone, Schedule a Visit, No action\n",
            "Answer: I'm going to follow up on the following questions. I'll be posting more in the near future.\n",
            "I've seen so many good answers to these questions, and I'm so excited to share them with you. I'm going to take some time to write the answers to the following questions.\n",
            "What kind of follow up is planned\n",
            "Option 1: This is where you will post the first question. This will be where we will post the second question. I'll be posting the first question\n",
            "--------------------------------------------------\n",
            "Question: Who to copy in follow up\n",
            "Generated Answer: Question: Who to copy in follow up\n",
            "Options: Stephan Maier, Joachim Wagner, Erik Schneider, Oliver Eibel, Angelina Haug, Marisa Peng, Johannes Wagner, Jessica Hanke, Sandro Kalter, Jens Roschmann, Domiki Stein, Sean Kennin, Tim Persson\n",
            "Answer:\n",
            "You should be able to copy the following files:\n",
            "\n",
            "- The header files for the \"C:\\Program Files\\Microsoft Office\\Office\\Office.dll\" file and \"C:\\Program Files\\Microsoft Office\\Office.ini\" file\n",
            "\n",
            "- The \"C:\\Program Files\\Microsoft Office\\Office.ini\" file and \"C:\\Program Files\\Microsoft Office\\Office.ini\" file\n",
            "\n",
            "- The \"C:\\Program Files\\Microsoft Office\\Office.ini\"\n",
            "--------------------------------------------------\n"
          ]
        }
      ]
    },
    {
      "cell_type": "markdown",
      "source": [
        "### 2. Applying a QA-model"
      ],
      "metadata": {
        "id": "0Wqv1oSXJwvf"
      }
    },
    {
      "cell_type": "markdown",
      "source": [
        "### 3. Performance evaluation"
      ],
      "metadata": {
        "id": "3Q5AuU_gJ1lT"
      }
    }
  ]
}